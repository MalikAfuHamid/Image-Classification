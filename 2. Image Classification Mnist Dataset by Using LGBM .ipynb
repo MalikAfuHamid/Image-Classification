{
 "cells": [
  {
   "cell_type": "markdown",
   "id": "c069560c",
   "metadata": {},
   "source": [
    "# 1. Import Libraries"
   ]
  },
  {
   "cell_type": "code",
   "execution_count": 1,
   "id": "420477e2",
   "metadata": {},
   "outputs": [],
   "source": [
    "import numpy as np\n",
    "import pandas as pd\n",
    "import seaborn as sns\n",
    "import matplotlib.pyplot as plt\n",
    "\n",
    "from sklearn.model_selection import train_test_split\n",
    "from sklearn.pipeline import Pipeline\n",
    "from sklearn.compose import ColumnTransformer\n",
    "\n",
    "from jcopml.pipeline import num_pipe, cat_pipe\n",
    "from jcopml.utils import save_model, load_model\n",
    "from jcopml.plot import plot_missing_value\n",
    "from jcopml.feature_importance import mean_score_decrease"
   ]
  },
  {
   "cell_type": "markdown",
   "id": "a13d2ada",
   "metadata": {},
   "source": [
    "# 2. Import Dataset"
   ]
  },
  {
   "cell_type": "code",
   "execution_count": 2,
   "id": "e1be60af",
   "metadata": {},
   "outputs": [
    {
     "data": {
      "text/html": [
       "<div>\n",
       "<style scoped>\n",
       "    .dataframe tbody tr th:only-of-type {\n",
       "        vertical-align: middle;\n",
       "    }\n",
       "\n",
       "    .dataframe tbody tr th {\n",
       "        vertical-align: top;\n",
       "    }\n",
       "\n",
       "    .dataframe thead th {\n",
       "        text-align: right;\n",
       "    }\n",
       "</style>\n",
       "<table border=\"1\" class=\"dataframe\">\n",
       "  <thead>\n",
       "    <tr style=\"text-align: right;\">\n",
       "      <th></th>\n",
       "      <th>label</th>\n",
       "      <th>1x1</th>\n",
       "      <th>1x2</th>\n",
       "      <th>1x3</th>\n",
       "      <th>1x4</th>\n",
       "      <th>1x5</th>\n",
       "      <th>1x6</th>\n",
       "      <th>1x7</th>\n",
       "      <th>1x8</th>\n",
       "      <th>1x9</th>\n",
       "      <th>...</th>\n",
       "      <th>28x19</th>\n",
       "      <th>28x20</th>\n",
       "      <th>28x21</th>\n",
       "      <th>28x22</th>\n",
       "      <th>28x23</th>\n",
       "      <th>28x24</th>\n",
       "      <th>28x25</th>\n",
       "      <th>28x26</th>\n",
       "      <th>28x27</th>\n",
       "      <th>28x28</th>\n",
       "    </tr>\n",
       "  </thead>\n",
       "  <tbody>\n",
       "    <tr>\n",
       "      <th>0</th>\n",
       "      <td>0</td>\n",
       "      <td>0</td>\n",
       "      <td>0</td>\n",
       "      <td>0</td>\n",
       "      <td>0</td>\n",
       "      <td>0</td>\n",
       "      <td>0</td>\n",
       "      <td>0</td>\n",
       "      <td>0</td>\n",
       "      <td>0</td>\n",
       "      <td>...</td>\n",
       "      <td>0</td>\n",
       "      <td>0</td>\n",
       "      <td>0</td>\n",
       "      <td>0</td>\n",
       "      <td>0</td>\n",
       "      <td>0</td>\n",
       "      <td>0</td>\n",
       "      <td>0</td>\n",
       "      <td>0</td>\n",
       "      <td>0</td>\n",
       "    </tr>\n",
       "    <tr>\n",
       "      <th>1</th>\n",
       "      <td>0</td>\n",
       "      <td>0</td>\n",
       "      <td>0</td>\n",
       "      <td>0</td>\n",
       "      <td>0</td>\n",
       "      <td>0</td>\n",
       "      <td>0</td>\n",
       "      <td>0</td>\n",
       "      <td>0</td>\n",
       "      <td>0</td>\n",
       "      <td>...</td>\n",
       "      <td>0</td>\n",
       "      <td>0</td>\n",
       "      <td>0</td>\n",
       "      <td>0</td>\n",
       "      <td>0</td>\n",
       "      <td>0</td>\n",
       "      <td>0</td>\n",
       "      <td>0</td>\n",
       "      <td>0</td>\n",
       "      <td>0</td>\n",
       "    </tr>\n",
       "    <tr>\n",
       "      <th>2</th>\n",
       "      <td>0</td>\n",
       "      <td>0</td>\n",
       "      <td>0</td>\n",
       "      <td>0</td>\n",
       "      <td>0</td>\n",
       "      <td>0</td>\n",
       "      <td>0</td>\n",
       "      <td>0</td>\n",
       "      <td>0</td>\n",
       "      <td>0</td>\n",
       "      <td>...</td>\n",
       "      <td>0</td>\n",
       "      <td>0</td>\n",
       "      <td>0</td>\n",
       "      <td>0</td>\n",
       "      <td>0</td>\n",
       "      <td>0</td>\n",
       "      <td>0</td>\n",
       "      <td>0</td>\n",
       "      <td>0</td>\n",
       "      <td>0</td>\n",
       "    </tr>\n",
       "    <tr>\n",
       "      <th>3</th>\n",
       "      <td>0</td>\n",
       "      <td>0</td>\n",
       "      <td>0</td>\n",
       "      <td>0</td>\n",
       "      <td>0</td>\n",
       "      <td>0</td>\n",
       "      <td>0</td>\n",
       "      <td>0</td>\n",
       "      <td>0</td>\n",
       "      <td>0</td>\n",
       "      <td>...</td>\n",
       "      <td>0</td>\n",
       "      <td>0</td>\n",
       "      <td>0</td>\n",
       "      <td>0</td>\n",
       "      <td>0</td>\n",
       "      <td>0</td>\n",
       "      <td>0</td>\n",
       "      <td>0</td>\n",
       "      <td>0</td>\n",
       "      <td>0</td>\n",
       "    </tr>\n",
       "    <tr>\n",
       "      <th>4</th>\n",
       "      <td>0</td>\n",
       "      <td>0</td>\n",
       "      <td>0</td>\n",
       "      <td>0</td>\n",
       "      <td>0</td>\n",
       "      <td>0</td>\n",
       "      <td>0</td>\n",
       "      <td>0</td>\n",
       "      <td>0</td>\n",
       "      <td>0</td>\n",
       "      <td>...</td>\n",
       "      <td>0</td>\n",
       "      <td>0</td>\n",
       "      <td>0</td>\n",
       "      <td>0</td>\n",
       "      <td>0</td>\n",
       "      <td>0</td>\n",
       "      <td>0</td>\n",
       "      <td>0</td>\n",
       "      <td>0</td>\n",
       "      <td>0</td>\n",
       "    </tr>\n",
       "  </tbody>\n",
       "</table>\n",
       "<p>5 rows × 785 columns</p>\n",
       "</div>"
      ],
      "text/plain": [
       "   label  1x1  1x2  1x3  1x4  1x5  1x6  1x7  1x8  1x9  ...  28x19  28x20  \\\n",
       "0      0    0    0    0    0    0    0    0    0    0  ...      0      0   \n",
       "1      0    0    0    0    0    0    0    0    0    0  ...      0      0   \n",
       "2      0    0    0    0    0    0    0    0    0    0  ...      0      0   \n",
       "3      0    0    0    0    0    0    0    0    0    0  ...      0      0   \n",
       "4      0    0    0    0    0    0    0    0    0    0  ...      0      0   \n",
       "\n",
       "   28x21  28x22  28x23  28x24  28x25  28x26  28x27  28x28  \n",
       "0      0      0      0      0      0      0      0      0  \n",
       "1      0      0      0      0      0      0      0      0  \n",
       "2      0      0      0      0      0      0      0      0  \n",
       "3      0      0      0      0      0      0      0      0  \n",
       "4      0      0      0      0      0      0      0      0  \n",
       "\n",
       "[5 rows x 785 columns]"
      ]
     },
     "execution_count": 2,
     "metadata": {},
     "output_type": "execute_result"
    }
   ],
   "source": [
    "df = pd.read_csv('data/small_mnist.csv')\n",
    "df.head()"
   ]
  },
  {
   "cell_type": "markdown",
   "id": "40c341b5",
   "metadata": {},
   "source": [
    "# 3. Exploratory Data Analysis (EDA)"
   ]
  },
  {
   "cell_type": "markdown",
   "id": "2ca92b6d",
   "metadata": {},
   "source": [
    "### Data Information "
   ]
  },
  {
   "cell_type": "code",
   "execution_count": 3,
   "id": "6e83a127",
   "metadata": {},
   "outputs": [
    {
     "name": "stdout",
     "output_type": "stream",
     "text": [
      "<class 'pandas.core.frame.DataFrame'>\n",
      "RangeIndex: 2000 entries, 0 to 1999\n",
      "Columns: 785 entries, label to 28x28\n",
      "dtypes: int64(785)\n",
      "memory usage: 12.0 MB\n"
     ]
    }
   ],
   "source": [
    "df.info()"
   ]
  },
  {
   "cell_type": "code",
   "execution_count": 4,
   "id": "4cc9a5cd",
   "metadata": {},
   "outputs": [
    {
     "data": {
      "text/plain": [
       "(2000, 785)"
      ]
     },
     "execution_count": 4,
     "metadata": {},
     "output_type": "execute_result"
    }
   ],
   "source": [
    "df.shape"
   ]
  },
  {
   "cell_type": "markdown",
   "id": "5b9fc0b6",
   "metadata": {},
   "source": [
    "### Data Description"
   ]
  },
  {
   "cell_type": "code",
   "execution_count": 5,
   "id": "fa04db46",
   "metadata": {},
   "outputs": [
    {
     "data": {
      "text/html": [
       "<div>\n",
       "<style scoped>\n",
       "    .dataframe tbody tr th:only-of-type {\n",
       "        vertical-align: middle;\n",
       "    }\n",
       "\n",
       "    .dataframe tbody tr th {\n",
       "        vertical-align: top;\n",
       "    }\n",
       "\n",
       "    .dataframe thead th {\n",
       "        text-align: right;\n",
       "    }\n",
       "</style>\n",
       "<table border=\"1\" class=\"dataframe\">\n",
       "  <thead>\n",
       "    <tr style=\"text-align: right;\">\n",
       "      <th></th>\n",
       "      <th>label</th>\n",
       "      <th>1x1</th>\n",
       "      <th>1x2</th>\n",
       "      <th>1x3</th>\n",
       "      <th>1x4</th>\n",
       "      <th>1x5</th>\n",
       "      <th>1x6</th>\n",
       "      <th>1x7</th>\n",
       "      <th>1x8</th>\n",
       "      <th>1x9</th>\n",
       "      <th>...</th>\n",
       "      <th>28x19</th>\n",
       "      <th>28x20</th>\n",
       "      <th>28x21</th>\n",
       "      <th>28x22</th>\n",
       "      <th>28x23</th>\n",
       "      <th>28x24</th>\n",
       "      <th>28x25</th>\n",
       "      <th>28x26</th>\n",
       "      <th>28x27</th>\n",
       "      <th>28x28</th>\n",
       "    </tr>\n",
       "  </thead>\n",
       "  <tbody>\n",
       "    <tr>\n",
       "      <th>count</th>\n",
       "      <td>2000.000</td>\n",
       "      <td>2000.0</td>\n",
       "      <td>2000.0</td>\n",
       "      <td>2000.0</td>\n",
       "      <td>2000.0</td>\n",
       "      <td>2000.0</td>\n",
       "      <td>2000.0</td>\n",
       "      <td>2000.0</td>\n",
       "      <td>2000.0</td>\n",
       "      <td>2000.0</td>\n",
       "      <td>...</td>\n",
       "      <td>2000.000000</td>\n",
       "      <td>2000.000000</td>\n",
       "      <td>2000.000000</td>\n",
       "      <td>2000.000000</td>\n",
       "      <td>2000.000000</td>\n",
       "      <td>2000.0</td>\n",
       "      <td>2000.0</td>\n",
       "      <td>2000.0</td>\n",
       "      <td>2000.0</td>\n",
       "      <td>2000.0</td>\n",
       "    </tr>\n",
       "    <tr>\n",
       "      <th>mean</th>\n",
       "      <td>4.500</td>\n",
       "      <td>0.0</td>\n",
       "      <td>0.0</td>\n",
       "      <td>0.0</td>\n",
       "      <td>0.0</td>\n",
       "      <td>0.0</td>\n",
       "      <td>0.0</td>\n",
       "      <td>0.0</td>\n",
       "      <td>0.0</td>\n",
       "      <td>0.0</td>\n",
       "      <td>...</td>\n",
       "      <td>0.182000</td>\n",
       "      <td>0.133500</td>\n",
       "      <td>0.077000</td>\n",
       "      <td>0.094500</td>\n",
       "      <td>0.059500</td>\n",
       "      <td>0.0</td>\n",
       "      <td>0.0</td>\n",
       "      <td>0.0</td>\n",
       "      <td>0.0</td>\n",
       "      <td>0.0</td>\n",
       "    </tr>\n",
       "    <tr>\n",
       "      <th>std</th>\n",
       "      <td>2.873</td>\n",
       "      <td>0.0</td>\n",
       "      <td>0.0</td>\n",
       "      <td>0.0</td>\n",
       "      <td>0.0</td>\n",
       "      <td>0.0</td>\n",
       "      <td>0.0</td>\n",
       "      <td>0.0</td>\n",
       "      <td>0.0</td>\n",
       "      <td>0.0</td>\n",
       "      <td>...</td>\n",
       "      <td>5.469263</td>\n",
       "      <td>4.267292</td>\n",
       "      <td>3.206901</td>\n",
       "      <td>4.181664</td>\n",
       "      <td>2.660921</td>\n",
       "      <td>0.0</td>\n",
       "      <td>0.0</td>\n",
       "      <td>0.0</td>\n",
       "      <td>0.0</td>\n",
       "      <td>0.0</td>\n",
       "    </tr>\n",
       "    <tr>\n",
       "      <th>min</th>\n",
       "      <td>0.000</td>\n",
       "      <td>0.0</td>\n",
       "      <td>0.0</td>\n",
       "      <td>0.0</td>\n",
       "      <td>0.0</td>\n",
       "      <td>0.0</td>\n",
       "      <td>0.0</td>\n",
       "      <td>0.0</td>\n",
       "      <td>0.0</td>\n",
       "      <td>0.0</td>\n",
       "      <td>...</td>\n",
       "      <td>0.000000</td>\n",
       "      <td>0.000000</td>\n",
       "      <td>0.000000</td>\n",
       "      <td>0.000000</td>\n",
       "      <td>0.000000</td>\n",
       "      <td>0.0</td>\n",
       "      <td>0.0</td>\n",
       "      <td>0.0</td>\n",
       "      <td>0.0</td>\n",
       "      <td>0.0</td>\n",
       "    </tr>\n",
       "    <tr>\n",
       "      <th>25%</th>\n",
       "      <td>2.000</td>\n",
       "      <td>0.0</td>\n",
       "      <td>0.0</td>\n",
       "      <td>0.0</td>\n",
       "      <td>0.0</td>\n",
       "      <td>0.0</td>\n",
       "      <td>0.0</td>\n",
       "      <td>0.0</td>\n",
       "      <td>0.0</td>\n",
       "      <td>0.0</td>\n",
       "      <td>...</td>\n",
       "      <td>0.000000</td>\n",
       "      <td>0.000000</td>\n",
       "      <td>0.000000</td>\n",
       "      <td>0.000000</td>\n",
       "      <td>0.000000</td>\n",
       "      <td>0.0</td>\n",
       "      <td>0.0</td>\n",
       "      <td>0.0</td>\n",
       "      <td>0.0</td>\n",
       "      <td>0.0</td>\n",
       "    </tr>\n",
       "    <tr>\n",
       "      <th>50%</th>\n",
       "      <td>4.500</td>\n",
       "      <td>0.0</td>\n",
       "      <td>0.0</td>\n",
       "      <td>0.0</td>\n",
       "      <td>0.0</td>\n",
       "      <td>0.0</td>\n",
       "      <td>0.0</td>\n",
       "      <td>0.0</td>\n",
       "      <td>0.0</td>\n",
       "      <td>0.0</td>\n",
       "      <td>...</td>\n",
       "      <td>0.000000</td>\n",
       "      <td>0.000000</td>\n",
       "      <td>0.000000</td>\n",
       "      <td>0.000000</td>\n",
       "      <td>0.000000</td>\n",
       "      <td>0.0</td>\n",
       "      <td>0.0</td>\n",
       "      <td>0.0</td>\n",
       "      <td>0.0</td>\n",
       "      <td>0.0</td>\n",
       "    </tr>\n",
       "    <tr>\n",
       "      <th>75%</th>\n",
       "      <td>7.000</td>\n",
       "      <td>0.0</td>\n",
       "      <td>0.0</td>\n",
       "      <td>0.0</td>\n",
       "      <td>0.0</td>\n",
       "      <td>0.0</td>\n",
       "      <td>0.0</td>\n",
       "      <td>0.0</td>\n",
       "      <td>0.0</td>\n",
       "      <td>0.0</td>\n",
       "      <td>...</td>\n",
       "      <td>0.000000</td>\n",
       "      <td>0.000000</td>\n",
       "      <td>0.000000</td>\n",
       "      <td>0.000000</td>\n",
       "      <td>0.000000</td>\n",
       "      <td>0.0</td>\n",
       "      <td>0.0</td>\n",
       "      <td>0.0</td>\n",
       "      <td>0.0</td>\n",
       "      <td>0.0</td>\n",
       "    </tr>\n",
       "    <tr>\n",
       "      <th>max</th>\n",
       "      <td>9.000</td>\n",
       "      <td>0.0</td>\n",
       "      <td>0.0</td>\n",
       "      <td>0.0</td>\n",
       "      <td>0.0</td>\n",
       "      <td>0.0</td>\n",
       "      <td>0.0</td>\n",
       "      <td>0.0</td>\n",
       "      <td>0.0</td>\n",
       "      <td>0.0</td>\n",
       "      <td>...</td>\n",
       "      <td>223.000000</td>\n",
       "      <td>156.000000</td>\n",
       "      <td>143.000000</td>\n",
       "      <td>187.000000</td>\n",
       "      <td>119.000000</td>\n",
       "      <td>0.0</td>\n",
       "      <td>0.0</td>\n",
       "      <td>0.0</td>\n",
       "      <td>0.0</td>\n",
       "      <td>0.0</td>\n",
       "    </tr>\n",
       "  </tbody>\n",
       "</table>\n",
       "<p>8 rows × 785 columns</p>\n",
       "</div>"
      ],
      "text/plain": [
       "          label     1x1     1x2     1x3     1x4     1x5     1x6     1x7  \\\n",
       "count  2000.000  2000.0  2000.0  2000.0  2000.0  2000.0  2000.0  2000.0   \n",
       "mean      4.500     0.0     0.0     0.0     0.0     0.0     0.0     0.0   \n",
       "std       2.873     0.0     0.0     0.0     0.0     0.0     0.0     0.0   \n",
       "min       0.000     0.0     0.0     0.0     0.0     0.0     0.0     0.0   \n",
       "25%       2.000     0.0     0.0     0.0     0.0     0.0     0.0     0.0   \n",
       "50%       4.500     0.0     0.0     0.0     0.0     0.0     0.0     0.0   \n",
       "75%       7.000     0.0     0.0     0.0     0.0     0.0     0.0     0.0   \n",
       "max       9.000     0.0     0.0     0.0     0.0     0.0     0.0     0.0   \n",
       "\n",
       "          1x8     1x9  ...        28x19        28x20        28x21  \\\n",
       "count  2000.0  2000.0  ...  2000.000000  2000.000000  2000.000000   \n",
       "mean      0.0     0.0  ...     0.182000     0.133500     0.077000   \n",
       "std       0.0     0.0  ...     5.469263     4.267292     3.206901   \n",
       "min       0.0     0.0  ...     0.000000     0.000000     0.000000   \n",
       "25%       0.0     0.0  ...     0.000000     0.000000     0.000000   \n",
       "50%       0.0     0.0  ...     0.000000     0.000000     0.000000   \n",
       "75%       0.0     0.0  ...     0.000000     0.000000     0.000000   \n",
       "max       0.0     0.0  ...   223.000000   156.000000   143.000000   \n",
       "\n",
       "             28x22        28x23   28x24   28x25   28x26   28x27   28x28  \n",
       "count  2000.000000  2000.000000  2000.0  2000.0  2000.0  2000.0  2000.0  \n",
       "mean      0.094500     0.059500     0.0     0.0     0.0     0.0     0.0  \n",
       "std       4.181664     2.660921     0.0     0.0     0.0     0.0     0.0  \n",
       "min       0.000000     0.000000     0.0     0.0     0.0     0.0     0.0  \n",
       "25%       0.000000     0.000000     0.0     0.0     0.0     0.0     0.0  \n",
       "50%       0.000000     0.000000     0.0     0.0     0.0     0.0     0.0  \n",
       "75%       0.000000     0.000000     0.0     0.0     0.0     0.0     0.0  \n",
       "max     187.000000   119.000000     0.0     0.0     0.0     0.0     0.0  \n",
       "\n",
       "[8 rows x 785 columns]"
      ]
     },
     "execution_count": 5,
     "metadata": {},
     "output_type": "execute_result"
    }
   ],
   "source": [
    "df.describe()"
   ]
  },
  {
   "cell_type": "markdown",
   "id": "1d18cf1b",
   "metadata": {},
   "source": [
    "### Check Missing Value"
   ]
  },
  {
   "cell_type": "code",
   "execution_count": 6,
   "id": "25a05a35",
   "metadata": {},
   "outputs": [
    {
     "data": {
      "image/png": "[encoded data removed]",
      "text/plain": [
       "<Figure size 1080x576 with 1 Axes>"
      ]
     },
     "metadata": {
      "needs_background": "light"
     },
     "output_type": "display_data"
    }
   ],
   "source": [
    "plot_missing_value(df)"
   ]
  },
  {
   "cell_type": "markdown",
   "id": "7930981b",
   "metadata": {},
   "source": [
    "## Check Imbalance Dataset"
   ]
  },
  {
   "cell_type": "markdown",
   "id": "62d5f7e6",
   "metadata": {},
   "source": [
    "### label distribution (target variable)"
   ]
  },
  {
   "cell_type": "code",
   "execution_count": 7,
   "id": "c33b8700",
   "metadata": {},
   "outputs": [
    {
     "name": "stderr",
     "output_type": "stream",
     "text": [
      "C:\\Users\\Malik Afu Hamid\\anaconda3\\lib\\site-packages\\seaborn\\_decorators.py:36: FutureWarning: Pass the following variable as a keyword arg: x. From version 0.12, the only valid positional argument will be `data`, and passing other arguments without an explicit keyword will result in an error or misinterpretation.\n",
      "  warnings.warn(\n"
     ]
    },
    {
     "data": {
      "text/plain": [
       "<AxesSubplot:xlabel='label', ylabel='count'>"
      ]
     },
     "execution_count": 7,
     "metadata": {},
     "output_type": "execute_result"
    },
    {
     "data": {
      "image/png": "[encoded data removed]",
      "text/plain": [
       "<Figure size 432x288 with 1 Axes>"
      ]
     },
     "metadata": {
      "needs_background": "light"
     },
     "output_type": "display_data"
    }
   ],
   "source": [
    "sns.countplot(df.label)"
   ]
  },
  {
   "cell_type": "code",
   "execution_count": 8,
   "id": "28ce0416",
   "metadata": {},
   "outputs": [
    {
     "data": {
      "text/plain": [
       "0    200\n",
       "1    200\n",
       "2    200\n",
       "3    200\n",
       "4    200\n",
       "5    200\n",
       "6    200\n",
       "7    200\n",
       "8    200\n",
       "9    200\n",
       "Name: label, dtype: int64"
      ]
     },
     "execution_count": 8,
     "metadata": {},
     "output_type": "execute_result"
    }
   ],
   "source": [
    "df.label.value_counts()"
   ]
  },
  {
   "cell_type": "markdown",
   "id": "33b9639d",
   "metadata": {},
   "source": [
    "`The target variable explains the dataset is balanced.`"
   ]
  },
  {
   "cell_type": "markdown",
   "id": "c5a97000",
   "metadata": {},
   "source": [
    "# 4. Dataset Splitting"
   ]
  },
  {
   "cell_type": "code",
   "execution_count": 9,
   "id": "d4cb1852",
   "metadata": {},
   "outputs": [
    {
     "data": {
      "text/plain": [
       "((1600, 784), (400, 784), (1600,), (400,))"
      ]
     },
     "execution_count": 9,
     "metadata": {},
     "output_type": "execute_result"
    }
   ],
   "source": [
    "X = df.drop(columns= 'label').values/255\n",
    "y = df.label.values\n",
    "\n",
    "X_train, X_test, y_train, y_test = train_test_split(X,y, test_size = 0.2, stratify = y, random_state = 0)\n",
    "X_train.shape, X_test.shape, y_train.shape, y_test.shape"
   ]
  },
  {
   "cell_type": "markdown",
   "id": "a18c5ddc",
   "metadata": {},
   "source": [
    "### Visualize Random Data"
   ]
  },
  {
   "cell_type": "code",
   "execution_count": 10,
   "id": "a337a67b",
   "metadata": {},
   "outputs": [
    {
     "data": {
      "text/plain": [
       "(1600, 784)"
      ]
     },
     "execution_count": 10,
     "metadata": {},
     "output_type": "execute_result"
    }
   ],
   "source": [
    "X_train.shape "
   ]
  },
  {
   "cell_type": "code",
   "execution_count": 11,
   "id": "579c672d",
   "metadata": {},
   "outputs": [
    {
     "data": {
      "image/png": "[encoded data removed]",
      "text/plain": [
       "<Figure size 432x288 with 1 Axes>"
      ]
     },
     "metadata": {
      "needs_background": "light"
     },
     "output_type": "display_data"
    }
   ],
   "source": [
    "N = len(X_train) \n",
    "idx = np.random.choice(N) \n",
    "img, label = X_train[idx], y_train[idx] \n",
    "\n",
    "plt.imshow(img.reshape(28, 28), cmap = 'gray')\n",
    "plt.title(label)\n",
    "plt.axis('off');"
   ]
  },
  {
   "cell_type": "markdown",
   "id": "eb095c44",
   "metadata": {},
   "source": [
    "# 5. Modeling"
   ]
  },
  {
   "cell_type": "code",
   "execution_count": 13,
   "id": "60ebf90a",
   "metadata": {},
   "outputs": [],
   "source": [
    "from lightgbm import LGBMClassifier\n",
    "from sklearn.model_selection import RandomizedSearchCV\n",
    "from jcopml.tuning import random_search_params as rsp"
   ]
  },
  {
   "cell_type": "code",
   "execution_count": 14,
   "id": "d8c59e0b",
   "metadata": {},
   "outputs": [],
   "source": [
    "from jcopml.tuning.space import Integer, Real"
   ]
  },
  {
   "cell_type": "code",
   "execution_count": 15,
   "id": "5a1d50fb",
   "metadata": {},
   "outputs": [
    {
     "name": "stdout",
     "output_type": "stream",
     "text": [
      "Fitting 3 folds for each of 100 candidates, totalling 300 fits\n"
     ]
    },
    {
     "name": "stderr",
     "output_type": "stream",
     "text": [
      "[Parallel(n_jobs=-2)]: Using backend LokyBackend with 7 concurrent workers.\n",
      "[Parallel(n_jobs=-2)]: Done  36 tasks      | elapsed:   53.7s\n",
      "[Parallel(n_jobs=-2)]: Done 186 tasks      | elapsed:  4.6min\n",
      "[Parallel(n_jobs=-2)]: Done 300 out of 300 | elapsed:  7.4min finished\n"
     ]
    },
    {
     "name": "stdout",
     "output_type": "stream",
     "text": [
      "{'algo__colsample_bytree': 0.30612285183231674, 'algo__learning_rate': 0.12181439742076741, 'algo__max_depth': 6, 'algo__min_child_samples': 15, 'algo__min_child_weight': 0.002151868785920178, 'algo__n_estimators': 191, 'algo__num_leaves': 251, 'algo__reg_alpha': 0.2155070688290447, 'algo__reg_lambda': 3.269764403111877, 'algo__subsample': 0.5477118132019829}\n",
      "1.0 0.89624835747061 0.92\n"
     ]
    }
   ],
   "source": [
    "pipeline = Pipeline([\n",
    "    ('algo', LGBMClassifier(n_jobs=-1, random_state=42))\n",
    "])\n",
    "\n",
    "\n",
    "parameter = {'algo__num_leaves': Integer(low=60, high=300),\n",
    "            'algo__max_depth': Integer(low=1, high=10),\n",
    "            'algo__learning_rate': Real(low=-2, high=0, prior='log-uniform'),\n",
    "            'algo__n_estimators': Integer(low=150, high=300),\n",
    "            'algo__min_child_samples': Integer(low=10, high=40),\n",
    "            'algo__min_child_weight': Real(low=-3, high=-2, prior='log-uniform'),\n",
    "            'algo__subsample': Real(low=0.3, high=0.8, prior='uniform'),\n",
    "            'algo__colsample_bytree': Real(low=0.1, high=1, prior='uniform'),\n",
    "            'algo__reg_alpha': Real(low=-1, high=1, prior='log-uniform'),\n",
    "            'algo__reg_lambda': Real(low=-3, high=1, prior='log-uniform'),\n",
    "}\n",
    "\n",
    "\n",
    "model = RandomizedSearchCV(pipeline, parameter, cv=3,  n_iter= 100, n_jobs=-2, verbose=1, random_state=42)\n",
    "model.fit(X_train, y_train)\n",
    "\n",
    "print(model.best_params_)\n",
    "print(model.score(X_train, y_train), model.best_score_, model.score(X_test, y_test))"
   ]
  },
  {
   "cell_type": "markdown",
   "id": "9cd2e159",
   "metadata": {},
   "source": [
    "## 5.1. Visualize Random Choice Prediction"
   ]
  },
  {
   "cell_type": "code",
   "execution_count": 16,
   "id": "259ca64b",
   "metadata": {},
   "outputs": [
    {
     "data": {
      "image/png": "[encoded data removed]",
      "text/plain": [
       "<Figure size 1080x1080 with 36 Axes>"
      ]
     },
     "metadata": {
      "needs_background": "light"
     },
     "output_type": "display_data"
    }
   ],
   "source": [
    "idx = np.random.choice(len(X_test), size = 36, replace = True)\n",
    "images, labels = X_test[idx], y_test[idx]\n",
    "preds = model.predict(images)\n",
    "\n",
    "fig, axes = plt.subplots(6,6, figsize = (15,15))\n",
    "for img, label, pred, ax in zip(images, labels, preds, axes.flatten()):\n",
    "    font = {'color': 'g'} if label == pred else {'color':'r'}\n",
    "    \n",
    "    ax.imshow(img.reshape(28,28), cmap = 'gray')\n",
    "    ax.set_title(f'Label: {label} | Prediction: {pred}', fontdict = font)\n",
    "    ax.axis ('off');"
   ]
  },
  {
   "cell_type": "markdown",
   "id": "e7cbc290",
   "metadata": {},
   "source": [
    "# 6. Hyperparameters Tuning"
   ]
  },
  {
   "cell_type": "code",
   "execution_count": 27,
   "id": "8558eb94",
   "metadata": {},
   "outputs": [
    {
     "name": "stdout",
     "output_type": "stream",
     "text": [
      "Fitting 3 folds for each of 50 candidates, totalling 150 fits\n"
     ]
    },
    {
     "name": "stderr",
     "output_type": "stream",
     "text": [
      "[Parallel(n_jobs=-1)]: Using backend LokyBackend with 8 concurrent workers.\n",
      "[Parallel(n_jobs=-1)]: Done  34 tasks      | elapsed:   43.1s\n",
      "[Parallel(n_jobs=-1)]: Done 150 out of 150 | elapsed:  4.7min finished\n"
     ]
    },
    {
     "name": "stdout",
     "output_type": "stream",
     "text": [
      "{'algo__colsample_bytree': 0.43100481944732794, 'algo__learning_rate': 0.07887102624766482, 'algo__max_depth': 6, 'algo__min_child_samples': 31, 'algo__min_child_weight': 0.0034337975314185764, 'algo__n_estimators': 293, 'algo__num_leaves': 156, 'algo__reg_alpha': 0.028323872575338933, 'algo__reg_lambda': 0.10784378128608854, 'algo__subsample': 0.6479064033954409}\n",
      "1.0 0.8987464075159334 0.925\n"
     ]
    }
   ],
   "source": [
    "pipeline = Pipeline([\n",
    "    ('algo', LGBMClassifier(n_jobs=-1, random_state=42))\n",
    "])\n",
    "\n",
    "parameter = {'algo__num_leaves': Integer(low=60, high=300),\n",
    "             'algo__max_depth': Integer(low=1, high=10),\n",
    "             'algo__learning_rate': Real(low=-3, high=0, prior='log-uniform'),\n",
    "             'algo__n_estimators': Integer(low=150, high=300),\n",
    "             'algo__min_child_samples': Integer(low=10, high=50),\n",
    "             'algo__min_child_weight': Real(low=-3, high=-2, prior='log-uniform'),\n",
    "             'algo__subsample': Real(low=0.3, high=0.8, prior='uniform'),\n",
    "             'algo__colsample_bytree': Real(low=0.1, high=1, prior='uniform'),\n",
    "             'algo__reg_alpha': Real(low=-2, high=1, prior='log-uniform'),\n",
    "             'algo__reg_lambda': Real(low=-3, high=1, prior='log-uniform'),\n",
    "}\n",
    "model = RandomizedSearchCV(pipeline, parameter, cv=3, scoring='accuracy', n_iter= 50, n_jobs=-1, verbose=1, random_state=42)\n",
    "model.fit(X_train, y_train)\n",
    "\n",
    "print(model.best_params_)\n",
    "print(model.score(X_train, y_train), model.best_score_, model.score(X_test, y_test))"
   ]
  },
  {
   "cell_type": "markdown",
   "id": "89154eba",
   "metadata": {},
   "source": [
    "## 6.1. Visualize Random Choice Prediction"
   ]
  },
  {
   "cell_type": "code",
   "execution_count": 28,
   "id": "307608db",
   "metadata": {},
   "outputs": [
    {
     "data": {
      "image/png": "[encoded data removed]",
      "text/plain": [
       "<Figure size 1080x1080 with 36 Axes>"
      ]
     },
     "metadata": {
      "needs_background": "light"
     },
     "output_type": "display_data"
    }
   ],
   "source": [
    "idx = np.random.choice(len(X_test), size = 36, replace = True)\n",
    "images, labels = X_test[idx], y_test[idx]\n",
    "preds = model.predict(images)\n",
    "\n",
    "fig, axes = plt.subplots(6,6, figsize = (15,15))\n",
    "for img, label, pred, ax in zip(images, labels, preds, axes.flatten()):\n",
    "    font = {'color': 'g'} if label == pred else {'color':'r'}\n",
    "    \n",
    "    ax.imshow(img.reshape(28,28), cmap = 'gray')\n",
    "    ax.set_title(f'Label: {label} | Prediction: {pred}', fontdict = font)\n",
    "    ax.axis ('off');"
   ]
  },
  {
   "cell_type": "markdown",
   "id": "b593a24b",
   "metadata": {},
   "source": [
    "# 7. Evaluation"
   ]
  },
  {
   "cell_type": "code",
   "execution_count": 29,
   "id": "c8339971",
   "metadata": {},
   "outputs": [],
   "source": [
    "from jcopml.plot import plot_classification_report, plot_confusion_matrix, plot_roc_curve\n",
    "from sklearn.metrics import confusion_matrix, accuracy_score, plot_confusion_matrix"
   ]
  },
  {
   "cell_type": "markdown",
   "id": "158543be",
   "metadata": {},
   "source": [
    "## 7.1. Classification Report"
   ]
  },
  {
   "cell_type": "code",
   "execution_count": 30,
   "id": "02b83edc",
   "metadata": {
    "scrolled": true
   },
   "outputs": [
    {
     "name": "stdout",
     "output_type": "stream",
     "text": [
      "Train report\n",
      "              precision    recall  f1-score   support\n",
      "\n",
      "           0       1.00      1.00      1.00       160\n",
      "           1       1.00      1.00      1.00       160\n",
      "           2       1.00      1.00      1.00       160\n",
      "           3       1.00      1.00      1.00       160\n",
      "           4       1.00      1.00      1.00       160\n",
      "           5       1.00      1.00      1.00       160\n",
      "           6       1.00      1.00      1.00       160\n",
      "           7       1.00      1.00      1.00       160\n",
      "           8       1.00      1.00      1.00       160\n",
      "           9       1.00      1.00      1.00       160\n",
      "\n",
      "    accuracy                           1.00      1600\n",
      "   macro avg       1.00      1.00      1.00      1600\n",
      "weighted avg       1.00      1.00      1.00      1600\n",
      "\n",
      "\n",
      "Test report\n",
      "              precision    recall  f1-score   support\n",
      "\n",
      "           0       0.89      0.97      0.93        40\n",
      "           1       0.95      0.97      0.96        40\n",
      "           2       0.93      0.95      0.94        40\n",
      "           3       0.87      1.00      0.93        40\n",
      "           4       0.92      0.82      0.87        40\n",
      "           5       0.95      0.97      0.96        40\n",
      "           6       1.00      0.95      0.97        40\n",
      "           7       0.95      0.90      0.92        40\n",
      "           8       0.94      0.82      0.88        40\n",
      "           9       0.88      0.88      0.88        40\n",
      "\n",
      "    accuracy                           0.93       400\n",
      "   macro avg       0.93      0.93      0.92       400\n",
      "weighted avg       0.93      0.93      0.92       400\n",
      "\n"
     ]
    }
   ],
   "source": [
    "plot_classification_report(X_train, y_train, X_test, y_test, model, report=True)"
   ]
  },
  {
   "cell_type": "markdown",
   "id": "f2a3f649",
   "metadata": {},
   "source": [
    "### 7.2.1 Confusion Matrix for Training Set"
   ]
  },
  {
   "cell_type": "code",
   "execution_count": 31,
   "id": "5369a1ba",
   "metadata": {},
   "outputs": [
    {
     "data": {
      "image/png": "[encoded data removed]",
      "text/plain": [
       "<Figure size 1440x648 with 2 Axes>"
      ]
     },
     "metadata": {
      "needs_background": "light"
     },
     "output_type": "display_data"
    }
   ],
   "source": [
    "matrix = plot_confusion_matrix(model,X_train, y_train, cmap=plt.cm.Reds)\n",
    "matrix.ax_.set_title('Confusion Matrix', color = 'black')\n",
    "plt.xlabel('Predictel Label', color = 'black')\n",
    "plt.ylabel('True Label', color='black')\n",
    "plt.gcf().axes[0].tick_params(colors = 'black')\n",
    "plt.gcf().axes[1].tick_params(colors = 'black')\n",
    "plt.gcf().set_size_inches(20,9)\n",
    "plt.show()"
   ]
  },
  {
   "cell_type": "markdown",
   "id": "7e5c8efd",
   "metadata": {},
   "source": [
    "### 7.2.2 Confusion Matrix for Testing Set"
   ]
  },
  {
   "cell_type": "code",
   "execution_count": 32,
   "id": "0703de17",
   "metadata": {},
   "outputs": [
    {
     "data": {
      "image/png": "[encoded data removed]",
      "text/plain": [
       "<Figure size 792x720 with 2 Axes>"
      ]
     },
     "metadata": {
      "needs_background": "light"
     },
     "output_type": "display_data"
    }
   ],
   "source": [
    "matrix = plot_confusion_matrix(model,X_test, y_test, cmap=plt.cm.Reds)\n",
    "matrix.ax_.set_title('Confusion Matrix', color = 'black')\n",
    "plt.xlabel('Predictel Label', color = 'black')\n",
    "plt.ylabel('True Label', color='black')\n",
    "plt.gcf().axes[0].tick_params(colors = 'black')\n",
    "plt.gcf().axes[1].tick_params(colors = 'black')\n",
    "plt.gcf().set_size_inches(11,10)\n",
    "plt.show()"
   ]
  },
  {
   "cell_type": "markdown",
   "id": "94c82f51",
   "metadata": {},
   "source": [
    "## 7.3. ROC AUC Score"
   ]
  },
  {
   "cell_type": "code",
   "execution_count": 33,
   "id": "e4d21ec6",
   "metadata": {},
   "outputs": [],
   "source": [
    "from sklearn.metrics import roc_auc_score"
   ]
  },
  {
   "cell_type": "code",
   "execution_count": 34,
   "id": "fbeab0bb",
   "metadata": {},
   "outputs": [
    {
     "name": "stdout",
     "output_type": "stream",
     "text": [
      "One vs One ROCAUC scores:\n",
      "0.995326 (macro),\n",
      "0.995326 (weighted by prevalence)\n",
      "------------------------------------------------------------\n",
      "One vs Rest ROCAUC scores:\n",
      "0.995326 (macro),\n",
      "0.995326 (weighted by prevalence)\n"
     ]
    }
   ],
   "source": [
    "y_prob = model.predict_proba(X_test)\n",
    "\n",
    "macro_ROCAUC_OvO = roc_auc_score(y_test, y_prob, multi_class=\"ovo\", average=\"macro\")\n",
    "weighted_ROCAUC_OvO = roc_auc_score(\n",
    "    y_test, y_prob, multi_class=\"ovo\", average=\"weighted\"\n",
    ")\n",
    "\n",
    "macro_ROCAUC_OvR = roc_auc_score(y_test, y_prob, multi_class=\"ovr\", average=\"macro\")\n",
    "weighted_ROCAUC_OvR = roc_auc_score(\n",
    "    y_test, y_prob, multi_class=\"ovr\", average=\"weighted\"\n",
    ")\n",
    "\n",
    "\n",
    "print(\n",
    "    \"One vs One ROCAUC scores:\\n{:.6f} (macro),\\n{:.6f} \"\n",
    "    \"(weighted by prevalence)\".format(macro_ROCAUC_OvO, weighted_ROCAUC_OvO)\n",
    ")\n",
    "\n",
    "print('------------------------------------------------------------')\n",
    "\n",
    "print(\n",
    "    \"One vs Rest ROCAUC scores:\\n{:.6f} (macro),\\n{:.6f} \"\n",
    "    \"(weighted by prevalence)\".format(macro_ROCAUC_OvR, weighted_ROCAUC_OvR)\n",
    ")"
   ]
  },
  {
   "cell_type": "markdown",
   "id": "691f7197",
   "metadata": {},
   "source": [
    "# 10. Save Model"
   ]
  },
  {
   "cell_type": "code",
   "execution_count": 35,
   "id": "26bab74e",
   "metadata": {},
   "outputs": [
    {
     "name": "stdout",
     "output_type": "stream",
     "text": [
      "Model is pickled as model/Image_Classification_Mnist_LGBM_Classifier.pkl\n"
     ]
    }
   ],
   "source": [
    "save_model(model.best_estimator_, 'Image_Classification_Mnist_LGBM_Classifier.pkl')"
   ]
  },
  {
   "cell_type": "code",
   "execution_count": null,
   "id": "6d484579",
   "metadata": {},
   "outputs": [],
   "source": []
  }
 ],
 "metadata": {
  "kernelspec": {
   "display_name": "Python 3 (ipykernel)",
   "language": "python",
   "name": "python3"
  },
  "language_info": {
   "codemirror_mode": {
    "name": "ipython",
    "version": 3
   },
   "file_extension": ".py",
   "mimetype": "text/x-python",
   "name": "python",
   "nbconvert_exporter": "python",
   "pygments_lexer": "ipython3",
   "version": "3.8.12"
  },
  "varInspector": {
   "cols": {
    "lenName": 16,
    "lenType": 16,
    "lenVar": 40
   },
   "kernels_config": {
    "python": {
     "delete_cmd_postfix": "",
     "delete_cmd_prefix": "del ",
     "library": "var_list.py",
     "varRefreshCmd": "print(var_dic_list())"
    },
    "r": {
     "delete_cmd_postfix": ") ",
     "delete_cmd_prefix": "rm(",
     "library": "var_list.r",
     "varRefreshCmd": "cat(var_dic_list()) "
    }
   },
   "types_to_exclude": [
    "module",
    "function",
    "builtin_function_or_method",
    "instance",
    "_Feature"
   ],
   "window_display": false
  }
 },
 "nbformat": 4,
 "nbformat_minor": 5
}
